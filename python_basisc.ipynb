{
  "nbformat": 4,
  "nbformat_minor": 0,
  "metadata": {
    "colab": {
      "provenance": []
    },
    "kernelspec": {
      "name": "python3",
      "display_name": "Python 3"
    },
    "language_info": {
      "name": "python"
    }
  },
  "cells": [
    {
      "cell_type": "code",
      "execution_count": null,
      "metadata": {
        "id": "Z-cWnTwi_eNn"
      },
      "outputs": [],
      "source": [
        " # Python Basics Question"
      ]
    },
    {
      "cell_type": "markdown",
      "source": [
        "ques 1. what is python , and why is it popular ?\n",
        "\n",
        "  ->Python is a high-level, interpreted programming language known for its simplicity, readability, and versatility. It was created by Guido van Rossum and first released in 1991. Python is widely used in web development, data science, artificial intelligence, automation, and many other fields.\n",
        "       Why is Python Popular?\n",
        "1. Easy to Learn & Readable – Python's simple and English-like syntax makes it beginner-friendly.\n",
        "\n",
        "\n",
        "2. Versatile & Multipurpose – It can be used for web development, data analysis, machine learning, scripting, and more.\n",
        "\n",
        "3. Large Community & Support – A vast community ensures continuous development, libraries, and support.\n",
        "\n",
        "4. Rich Libraries & Frameworks – Python has powerful libraries like NumPy, Pandas, TensorFlow, Django, and Flask.\n",
        "\n",
        "5. Cross-Platform Compatibility – Python runs on Windows, macOS, and Linux without modification.\n",
        "\n",
        "6. Automation & Scripting – It is widely used for automating repetitive tasks.\n",
        "\n",
        "7. Strong in AI & Data Science – Python dominates the AI, ML, and data science fields due to its efficiency and powerful libraries.\n",
        "\n",
        "ques 2. What is an interpreter in python ?\n",
        "\n",
        "  -> An interpreter in Python is a program that executes Python code line by line, converting it into machine-readable instructions at runtime. Unlike compiled languages (e.g., C, Java), Python does not require a separate compilation step; instead, the interpreter processes the code directly.\n",
        "\n",
        "   How Python Interpreter Works:\n",
        "\n",
        "  1. Reads the Python source code (.py file).\n",
        "\n",
        "  2. Converts it into bytecode (.pyc file, an intermediate form)\n",
        "\n",
        "  3. Executes the bytecode using the Python Virtual Machine (PVM).\n",
        "\n",
        "ques 3. What are pre-defined keywords in python ?\n",
        "\n",
        "   ->  Python has reserved keywords that have special meanings and cannot be used as variable names, function names, or identifiers.\n",
        "\n",
        "   ques 4. can keywords be used as variable names ?\n",
        "    \n",
        "  -> No, keywords cannot be used as variable names in Python because they have predefined meanings in the language. If you try to use a keyword as a variable name, Python will raise a SyntaxError.\n",
        "\n",
        "ques 5. what is mutability in python ?\n",
        "\n",
        "  -> In Python, mutability refers to whether an object's value can be changed after it is created.\n",
        "  \n",
        "  Mutable Objects → Can be changed in place after creation.\n",
        "  80 Why are lists mutable, but tuples are immutable.\n",
        "\n",
        "   ques 6. Why are lists mutable, but tuples are immutable ?\n",
        "\n",
        "   -> Lists are mutable because they use dynamic memory allocation, allowing modifications in place.\n",
        "\n",
        "  Tuples are immutable because they store values in a fixed memory location, making them faster, memory-efficient, and hashable.\n",
        "\n",
        " ques 7. What is the difference between “==” and “is” operators in Python ?\n",
        "\n",
        "   ->  \"==\"(Equality Operator) → Checks if two variables have the same value.\n",
        "\n",
        "  is (Identity Operator) → Checks if two variables refer to the same memory location (i.e., the same object in memory).\n",
        "\n",
        "ques 8. What are logical operators in Python ?\n",
        "\n",
        " -> Logical operators are used to combine conditional statements and return True or False based on conditions.\n",
        "examples :1.\n",
        "(5>2)and (10>5)\n",
        "then is is true\n",
        "\n",
        "2.\n",
        "  (5>3)or (10>12)\n",
        "  then is is true\n",
        "  \n",
        "  3.\n",
        "(3<2) and (10>5)\n",
        "  then is is false\n",
        "\n",
        "ques 9.What is type casting in Python ?\n",
        "\n",
        "   -> Type casting (or type conversion) is the process of converting one data type into another.\n",
        "\n",
        "ques 10. What is the difference between implicit and explicit type casting ?\n",
        "\n",
        " -> Implicit type casting happens automatically in Python when it converts a smaller data type (like an integer) to a larger one (like a float), without needing explicit instructions.\n",
        "\n",
        "Explicit type casting is when the programmer manually converts one data type to another using functions like int(), float(), or str().\n",
        "\n",
        "ques 11. What is the purpose of conditional statements in Python ?\n",
        "\n",
        " -> Conditional statements in Python are used to control the flow of the program based on certain conditions. They allow the program to make decisions and execute specific blocks of code depending on whether a condition is True or False.\n",
        "\n",
        "Purpose of Conditional Statements\n",
        "\n",
        "1. Decision Making: Allows the program to decide which path to follow based on certain conditions.\n",
        "\n",
        "\n",
        "2. Control Flow: Determines which code block should run depending on the evaluated condition.\n",
        "\n",
        "\n",
        "3. Handling Different Scenarios: Used to handle multiple cases or different possible outcomes (e.g., checking if a number is positive or negative).\n",
        "\n",
        "ques 12. How does the elif statement work ?\n",
        "\n",
        " -> The elif (short for \"else if\") statement in Python is used to check multiple conditions when the first if condition is False. It allows you to specify several conditions to be tested one after the other. The first elif condition that evaluates to True will have its corresponding block of code executed, and the rest will be skipped.\n",
        "\n",
        "Flow of Execution:\n",
        "\n",
        "1. The if condition is evaluated first.\n",
        "\n",
        "\n",
        "2. If the if condition is True, the block of code under if executes, and no further conditions (including elif or else) are checked.\n",
        "\n",
        "\n",
        "3. If the if condition is False, the program moves to the first elif condition.\n",
        "\n",
        "\n",
        "4. If an elif condition is True, the corresponding block of code is executed, and no other elif or else statements are checked.\n",
        "\n",
        "\n",
        "5. If all if and elif conditions are False, the program executes the else block (if present).\n",
        "\n",
        "ques 13. What is the difference between for and while loops ?\n",
        "\n",
        " -> A for loop in Python is used to iterate over a sequence (like a list, tuple, or range) and runs a specific number of times.\n",
        "\n",
        " a while loop repeatedly executes a block of code as long as a condition is True.\n",
        "\n",
        " ques 14. Describe a scenario where a while loop is more suitable than a for loop.\n",
        " ->A while loop is more suitable than a for loop when you don't know in advance how many times you need to iterate, but you need to repeat an action until a specific condition is met.\n",
        "\n",
        "Scenario Example:\n",
        "\n",
        "Let's say you're writing a program to keep prompting a user to enter a valid password, and you don't know how many attempts the user will need, but you want to keep asking until the correct password is entered. here we can use while loop instead of using for loop.\n",
        "\n",
        "Why a while loop is more suitable:\n",
        "\n",
        "The number of attempts is not fixed.\n",
        "\n",
        "The loop should continue running until the condition (user_input != correct_password) is no longer true.\n",
        "\n"
      ],
      "metadata": {
        "id": "tCDo7M76GhC5"
      }
    },
    {
      "cell_type": "markdown",
      "source": [
        " Pratical Question :"
      ],
      "metadata": {
        "id": "tt74X2ojdlYS"
      }
    },
    {
      "cell_type": "markdown",
      "source": [
        "ques 1. Write a Python program to print \"Hello, World!_"
      ],
      "metadata": {
        "id": "M6keyECheGpo"
      }
    },
    {
      "cell_type": "code",
      "source": [
        "print (\"hello word\")\n"
      ],
      "metadata": {
        "colab": {
          "base_uri": "https://localhost:8080/"
        },
        "id": "fQaz7LX5ePmg",
        "outputId": "eb665cf8-e3f4-4427-b9df-50d4ea6d057c"
      },
      "execution_count": null,
      "outputs": [
        {
          "output_type": "stream",
          "name": "stdout",
          "text": [
            "hello word\n"
          ]
        }
      ]
    },
    {
      "cell_type": "markdown",
      "source": [
        " ques 2. Write a Python program that displays your name and age."
      ],
      "metadata": {
        "id": "0NEL79WYea5O"
      }
    },
    {
      "cell_type": "code",
      "source": [
        "print (\"my name is Amrita kumari\")\n",
        "print (\"my age is 16\")"
      ],
      "metadata": {
        "colab": {
          "base_uri": "https://localhost:8080/"
        },
        "id": "WeoCU3hhgO18",
        "outputId": "5f4b108a-9db7-49ce-a686-b64cf9ffb3e2"
      },
      "execution_count": null,
      "outputs": [
        {
          "output_type": "stream",
          "name": "stdout",
          "text": [
            "my name is Amrita kumari\n",
            "my age is 16\n"
          ]
        }
      ]
    },
    {
      "cell_type": "markdown",
      "source": [
        "ques 3. Write code to print all the pre-defined keywords in Python using the keyword library."
      ],
      "metadata": {
        "id": "jQWlimssgdyj"
      }
    },
    {
      "cell_type": "code",
      "source": [
        "import keyword\n",
        "print (keyword.kwlist)"
      ],
      "metadata": {
        "colab": {
          "base_uri": "https://localhost:8080/"
        },
        "id": "_ZfvGNEfhzw-",
        "outputId": "805808b9-c692-4ce2-9b4f-7d456a8fcc02"
      },
      "execution_count": null,
      "outputs": [
        {
          "output_type": "stream",
          "name": "stdout",
          "text": [
            "['False', 'None', 'True', 'and', 'as', 'assert', 'async', 'await', 'break', 'class', 'continue', 'def', 'del', 'elif', 'else', 'except', 'finally', 'for', 'from', 'global', 'if', 'import', 'in', 'is', 'lambda', 'nonlocal', 'not', 'or', 'pass', 'raise', 'return', 'try', 'while', 'with', 'yield']\n"
          ]
        }
      ]
    },
    {
      "cell_type": "markdown",
      "source": [
        " ques 4. Write a program that checks if a given word is a Python keyword"
      ],
      "metadata": {
        "id": "r5rboAARiDIg"
      }
    },
    {
      "cell_type": "code",
      "source": [
        " #Here’s a Python program that checks if a given word is a Python keyword:\n",
        "\n",
        "def is_keyword(word):\n",
        "    keywords = ['False', 'None', 'True', 'and', 'as', 'assert', 'async', 'await',\n",
        "                'break', 'class', 'continue', 'def', 'del', 'elif', 'else', 'except',\n",
        "                'finally', 'for', 'from', 'global', 'if', 'import', 'in', 'is', 'lambda',\n",
        "                'nonlocal', 'not', 'or', 'pass', 'raise', 'return', 'try', 'while', 'with', 'yield']\n",
        "    return word in keywords\n",
        "\n",
        "word = input(\"Enter a word: \")\n",
        "if is_keyword(word):\n",
        "    print(f\"'{word}' is a Python keyword.\")\n",
        "else:\n",
        "    print(f\"'{word}' is not a Python keyword.\")\n",
        "\n"
      ],
      "metadata": {
        "colab": {
          "base_uri": "https://localhost:8080/"
        },
        "id": "68oMBZ21nVWu",
        "outputId": "5c2d486a-e82c-4ce0-f879-e74a56a4d7cd"
      },
      "execution_count": null,
      "outputs": [
        {
          "output_type": "stream",
          "name": "stdout",
          "text": [
            "Enter a word: class\n",
            "'class' is a Python keyword.\n"
          ]
        }
      ]
    },
    {
      "cell_type": "markdown",
      "source": [
        "ques 5. Create a list and tuple in Python, and demonstrate how attempting to change an element works differently\n",
        "for each."
      ],
      "metadata": {
        "id": "p85kKH0voZmV"
      }
    },
    {
      "cell_type": "code",
      "source": [
        " # tuples is immutable(so it can not be edit or create)\n",
        " my_tuple= (1,2,3)\n",
        " my_tuple[0]=10\n",
        "# this error occurs because tuples are immutable,and their elements cannot be modified directly"
      ],
      "metadata": {
        "colab": {
          "base_uri": "https://localhost:8080/",
          "height": 176
        },
        "id": "53gXykuLqNMp",
        "outputId": "4a5e0186-729c-446a-8fe0-f36b4a7f03e6"
      },
      "execution_count": null,
      "outputs": [
        {
          "output_type": "error",
          "ename": "TypeError",
          "evalue": "'tuple' object does not support item assignment",
          "traceback": [
            "\u001b[0;31m---------------------------------------------------------------------------\u001b[0m",
            "\u001b[0;31mTypeError\u001b[0m                                 Traceback (most recent call last)",
            "\u001b[0;32m<ipython-input-24-8cb135fc8c06>\u001b[0m in \u001b[0;36m<cell line: 0>\u001b[0;34m()\u001b[0m\n\u001b[1;32m      1\u001b[0m \u001b[0;31m# tuples is immutable(so it can not be edit or create)\u001b[0m\u001b[0;34m\u001b[0m\u001b[0;34m\u001b[0m\u001b[0m\n\u001b[1;32m      2\u001b[0m \u001b[0mmy_tuple\u001b[0m\u001b[0;34m=\u001b[0m \u001b[0;34m(\u001b[0m\u001b[0;36m1\u001b[0m\u001b[0;34m,\u001b[0m\u001b[0;36m2\u001b[0m\u001b[0;34m,\u001b[0m\u001b[0;36m3\u001b[0m\u001b[0;34m)\u001b[0m\u001b[0;34m\u001b[0m\u001b[0;34m\u001b[0m\u001b[0m\n\u001b[0;32m----> 3\u001b[0;31m \u001b[0mmy_tuple\u001b[0m\u001b[0;34m[\u001b[0m\u001b[0;36m0\u001b[0m\u001b[0;34m]\u001b[0m\u001b[0;34m=\u001b[0m\u001b[0;36m10\u001b[0m\u001b[0;34m\u001b[0m\u001b[0;34m\u001b[0m\u001b[0m\n\u001b[0m",
            "\u001b[0;31mTypeError\u001b[0m: 'tuple' object does not support item assignment"
          ]
        }
      ]
    },
    {
      "cell_type": "code",
      "source": [
        "# list is mutable (so it can be edit or create)\n",
        "a= [\"star\", 2.3, 4, \"apple\",]\n",
        "a[0]= \"moon\"\n",
        "a"
      ],
      "metadata": {
        "colab": {
          "base_uri": "https://localhost:8080/"
        },
        "id": "I_73wiPQzhX9",
        "outputId": "7d113547-d6f7-4bb1-f68f-31d2ed1aa3df"
      },
      "execution_count": null,
      "outputs": [
        {
          "output_type": "execute_result",
          "data": {
            "text/plain": [
              "['mmon', 2.3, 4, 'apple']"
            ]
          },
          "metadata": {},
          "execution_count": 23
        }
      ]
    },
    {
      "cell_type": "markdown",
      "source": [
        " ques 6. Write a function to demonstrate the behavior of mutable and immutable arguments.\n"
      ],
      "metadata": {
        "id": "YRkizT3P4FuH"
      }
    },
    {
      "cell_type": "code",
      "source": [
        "# a Python function that demonstrates the behavior of mutable and immutable arguments:\n",
        "\n",
        "def demonstrate_mutable_immutable(lst, num):\n",
        "    # Mutable argument (list)\n",
        "    print(f\"Original list: {lst}\")\n",
        "    lst.append(4)  # Modifying mutable object\n",
        "    print(f\"Modified list (after append): {lst}\")\n",
        "\n",
        "    # Immutable argument (number)\n",
        "    print(f\"Original number: {num}\")\n",
        "    num += 10  # Modifying immutable object\n",
        "    print(f\"Modified number (after addition): {num}\")\n",
        "\n",
        "# Testing the function\n",
        "my_list = [1, 2, 3]\n",
        "my_number = 5\n",
        "\n",
        "# Passing mutable and immutable arguments\n",
        "demonstrate_mutable_immutable(my_list, my_number)\n",
        "\n",
        "# Verifying changes outside the function\n",
        "print(f\"List outside function: {my_list}\")\n",
        "print(f\"Number outside function: {my_number}\")\n",
        "\n",
        " #Explanation:\n",
        "\n",
        "# 1. Mutable Argument (lst): A list is mutable, so when it's modified inside the function (with .append()), the changes are reflected outside the function.\n",
        "\n",
        "\n",
        "# 2. Immutable Argument (num): An integer is immutable, so when it's modified inside the function (num += 10), it doesn't affect the original value outside the function.\n",
        "\n",
        "\n",
        "\n"
      ],
      "metadata": {
        "colab": {
          "base_uri": "https://localhost:8080/"
        },
        "id": "rJvNnh_HJnxr",
        "outputId": "7f4a3aa1-0d7d-4817-93af-717a1c60e1a5"
      },
      "execution_count": null,
      "outputs": [
        {
          "output_type": "stream",
          "name": "stdout",
          "text": [
            "Original list: [1, 2, 3]\n",
            "Modified list (after append): [1, 2, 3, 4]\n",
            "Original number: 5\n",
            "Modified number (after addition): 15\n",
            "List outside function: [1, 2, 3, 4]\n",
            "Number outside function: 5\n"
          ]
        }
      ]
    },
    {
      "cell_type": "markdown",
      "source": [
        " ques 7. Write a function to demonstrate the behavior of mutable and immutable arguments0"
      ],
      "metadata": {
        "id": "IzBEnLdCKP8_"
      }
    },
    {
      "cell_type": "code",
      "source": [
        "# a Python function that demonstrates the behavior of mutable and immutable arguments:\n",
        "\n",
        "def demonstrate_mutable_immutable(lst, num):\n",
        "    # Mutable argument (list)\n",
        "    print(f\"Original list: {lst}\")\n",
        "    lst.append(4)  # Modifying mutable object\n",
        "    print(f\"Modified list (after append): {lst}\")\n",
        "\n",
        "    # Immutable argument (number)\n",
        "    print(f\"Original number: {num}\")\n",
        "    num += 10  # Modifying immutable object\n",
        "    print(f\"Modified number (after addition): {num}\")\n",
        "\n",
        "# Testing the function\n",
        "my_list = [1, 2, 3]\n",
        "my_number = 5\n",
        "\n",
        "# Passing mutable and immutable arguments\n",
        "demonstrate_mutable_immutable(my_list, my_number)\n",
        "\n",
        "# Verifying changes outside the function\n",
        "print(f\"List outside function: {my_list}\")\n",
        "print(f\"Number outside function: {my_number}\")\n",
        "\n",
        " #Explanation:\n",
        "\n",
        "# 1. Mutable Argument (lst): A list is mutable, so when it's modified inside the function (with .append()), the changes are reflected outside the function.\n",
        "\n",
        "\n",
        "# 2. Immutable Argument (num): An integer is immutable, so when it's modified inside the function (num += 10), it doesn't affect the original value outside the function.\n",
        "\n"
      ],
      "metadata": {
        "colab": {
          "base_uri": "https://localhost:8080/"
        },
        "id": "vDzrr0xQKXYs",
        "outputId": "66d36b5f-7e53-42be-8e33-ccbda91803ad"
      },
      "execution_count": null,
      "outputs": [
        {
          "output_type": "stream",
          "name": "stdout",
          "text": [
            "Original list: [1, 2, 3]\n",
            "Modified list (after append): [1, 2, 3, 4]\n",
            "Original number: 5\n",
            "Modified number (after addition): 15\n",
            "List outside function: [1, 2, 3, 4]\n",
            "Number outside function: 5\n"
          ]
        }
      ]
    },
    {
      "cell_type": "markdown",
      "source": [
        "ques 8. Write a program to demonstrate the use of logical operators."
      ],
      "metadata": {
        "id": "9OeuK3jUKhBV"
      }
    },
    {
      "cell_type": "code",
      "source": [
        "# logical operators are\n",
        "# AND, OR,XOR,NOR,\n",
        "#AND= 1,OR= 0\n",
        "\n",
        "\n",
        " # it is used to create a relational operator from other relational expression\n",
        "# or operator\n",
        "\n",
        "True or False"
      ],
      "metadata": {
        "colab": {
          "base_uri": "https://localhost:8080/"
        },
        "id": "ZvZJQiNZLeOZ",
        "outputId": "1ad473b4-52f4-40a4-b911-fc640cb4d9b8"
      },
      "execution_count": null,
      "outputs": [
        {
          "output_type": "execute_result",
          "data": {
            "text/plain": [
              "True"
            ]
          },
          "metadata": {},
          "execution_count": 32
        }
      ]
    },
    {
      "cell_type": "code",
      "source": [
        "False or True"
      ],
      "metadata": {
        "colab": {
          "base_uri": "https://localhost:8080/"
        },
        "id": "0fT1gGIFNdSK",
        "outputId": "7eea82e2-e398-42bd-a6dc-59a44019dd96"
      },
      "execution_count": null,
      "outputs": [
        {
          "output_type": "execute_result",
          "data": {
            "text/plain": [
              "True"
            ]
          },
          "metadata": {},
          "execution_count": 33
        }
      ]
    },
    {
      "cell_type": "code",
      "source": [
        "False or False"
      ],
      "metadata": {
        "colab": {
          "base_uri": "https://localhost:8080/"
        },
        "id": "B0pB0YUoNlXp",
        "outputId": "684d4ef5-354d-447d-84d4-086ae4d98141"
      },
      "execution_count": null,
      "outputs": [
        {
          "output_type": "execute_result",
          "data": {
            "text/plain": [
              "False"
            ]
          },
          "metadata": {},
          "execution_count": 34
        }
      ]
    },
    {
      "cell_type": "code",
      "source": [
        "# and operator\n",
        "True and True"
      ],
      "metadata": {
        "colab": {
          "base_uri": "https://localhost:8080/"
        },
        "id": "Lou0FaGkN2k4",
        "outputId": "e8bfa458-98c9-456e-9a0e-71d9dddb6a31"
      },
      "execution_count": null,
      "outputs": [
        {
          "output_type": "execute_result",
          "data": {
            "text/plain": [
              "True"
            ]
          },
          "metadata": {},
          "execution_count": 35
        }
      ]
    },
    {
      "cell_type": "code",
      "source": [
        "False and True"
      ],
      "metadata": {
        "colab": {
          "base_uri": "https://localhost:8080/"
        },
        "id": "al6Abw0AOEXg",
        "outputId": "0b24325b-9c25-4fb6-bdb2-060076ddc55d"
      },
      "execution_count": null,
      "outputs": [
        {
          "output_type": "execute_result",
          "data": {
            "text/plain": [
              "False"
            ]
          },
          "metadata": {},
          "execution_count": 36
        }
      ]
    },
    {
      "cell_type": "code",
      "source": [
        "False and False"
      ],
      "metadata": {
        "colab": {
          "base_uri": "https://localhost:8080/"
        },
        "id": "fv9NOD3BOKkk",
        "outputId": "9ba7b4d4-8006-41d0-bc1f-9a559d99448c"
      },
      "execution_count": null,
      "outputs": [
        {
          "output_type": "execute_result",
          "data": {
            "text/plain": [
              "False"
            ]
          },
          "metadata": {},
          "execution_count": 37
        }
      ]
    },
    {
      "cell_type": "markdown",
      "source": [
        "logical operators using expression"
      ],
      "metadata": {
        "id": "W-1DeVG2REL8"
      }
    },
    {
      "cell_type": "code",
      "source": [
        "box = 10>15\n",
        "print (box)\n",
        "type(box)"
      ],
      "metadata": {
        "colab": {
          "base_uri": "https://localhost:8080/"
        },
        "id": "VCZdHXnEPEMv",
        "outputId": "c900a1b5-43dc-4d1a-dd9b-84e170d11c83"
      },
      "execution_count": null,
      "outputs": [
        {
          "output_type": "stream",
          "name": "stdout",
          "text": [
            "False\n"
          ]
        },
        {
          "output_type": "execute_result",
          "data": {
            "text/plain": [
              "bool"
            ]
          },
          "metadata": {},
          "execution_count": 40
        }
      ]
    },
    {
      "cell_type": "code",
      "source": [
        "book = 10==10\n",
        "print (book)"
      ],
      "metadata": {
        "colab": {
          "base_uri": "https://localhost:8080/"
        },
        "id": "Mhz5x7I6QJyD",
        "outputId": "d6ddce8e-f092-470a-fcc8-f078f3c2ce67"
      },
      "execution_count": null,
      "outputs": [
        {
          "output_type": "stream",
          "name": "stdout",
          "text": [
            "True\n"
          ]
        }
      ]
    },
    {
      "cell_type": "code",
      "source": [
        "a=15>2\n",
        "print (a)"
      ],
      "metadata": {
        "colab": {
          "base_uri": "https://localhost:8080/"
        },
        "id": "x3aTQj4IQsHo",
        "outputId": "40f8af75-120c-4e77-8a60-dabdd2e587dd"
      },
      "execution_count": null,
      "outputs": [
        {
          "output_type": "stream",
          "name": "stdout",
          "text": [
            "True\n"
          ]
        }
      ]
    },
    {
      "cell_type": "markdown",
      "source": [
        "ques 9. Write a Python program to convert user input from string to integer, float, and boolean types."
      ],
      "metadata": {
        "id": "20hvDKodRUGs"
      }
    },
    {
      "cell_type": "code",
      "source": [
        "a= input (\"enter the number:\")\n",
        "a\n",
        "type (a)\n",
        " #\n"
      ],
      "metadata": {
        "colab": {
          "base_uri": "https://localhost:8080/"
        },
        "id": "tjiD7yZnSoL1",
        "outputId": "ec1397f0-3250-4ef3-fe6e-a5b7948b4f79"
      },
      "execution_count": null,
      "outputs": [
        {
          "name": "stdout",
          "output_type": "stream",
          "text": [
            "enter the number:5\n"
          ]
        },
        {
          "output_type": "execute_result",
          "data": {
            "text/plain": [
              "str"
            ]
          },
          "metadata": {},
          "execution_count": 52
        }
      ]
    },
    {
      "cell_type": "code",
      "source": [
        "b= input (\"enter the number:\")\n",
        "type (b)"
      ],
      "metadata": {
        "colab": {
          "base_uri": "https://localhost:8080/"
        },
        "id": "8BDlW-E6Ubp3",
        "outputId": "6d10f854-99da-48f8-e519-ff254cf00df9"
      },
      "execution_count": null,
      "outputs": [
        {
          "name": "stdout",
          "output_type": "stream",
          "text": [
            "enter the number:3.5\n"
          ]
        },
        {
          "output_type": "execute_result",
          "data": {
            "text/plain": [
              "str"
            ]
          },
          "metadata": {},
          "execution_count": 53
        }
      ]
    },
    {
      "cell_type": "markdown",
      "source": [
        " here , we can easily conclude that input takes evey number as a string\n",
        " so ,to convert string to int, float , boolean types we use type casting."
      ],
      "metadata": {
        "id": "fvyx7h5AUpyd"
      }
    },
    {
      "cell_type": "code",
      "source": [
        "c=  int(input (\"enter the number\")) #  here string converted into integer\n",
        "print (type(c))"
      ],
      "metadata": {
        "colab": {
          "base_uri": "https://localhost:8080/"
        },
        "id": "-0hjz3eMVO_9",
        "outputId": "0c946175-0a5a-4fbe-885c-1813ad79f8ea"
      },
      "execution_count": null,
      "outputs": [
        {
          "output_type": "stream",
          "name": "stdout",
          "text": [
            "enter the number4\n",
            "<class 'int'>\n"
          ]
        }
      ]
    },
    {
      "cell_type": "code",
      "source": [
        "d = float(input (\"enter the number: \"))  #  here string converted into float\n",
        "print (type(d))"
      ],
      "metadata": {
        "colab": {
          "base_uri": "https://localhost:8080/"
        },
        "id": "EObTScwsYeDO",
        "outputId": "0feb5610-b7bf-47bd-eeff-8f8c12b51538"
      },
      "execution_count": null,
      "outputs": [
        {
          "output_type": "stream",
          "name": "stdout",
          "text": [
            "enter the number: 2.0\n",
            "<class 'float'>\n"
          ]
        }
      ]
    },
    {
      "cell_type": "code",
      "source": [
        " k= bool(input(\"enter the value:\"))     # here, string converted into boolean\n",
        " print (\"boolean value\", k)"
      ],
      "metadata": {
        "colab": {
          "base_uri": "https://localhost:8080/"
        },
        "id": "VkTIMShqbtnn",
        "outputId": "34e512d6-6c72-499c-f9d5-97e8ded1a13e"
      },
      "execution_count": null,
      "outputs": [
        {
          "output_type": "stream",
          "name": "stdout",
          "text": [
            "enter the value: 0\n",
            "boolean value True\n"
          ]
        }
      ]
    },
    {
      "cell_type": "markdown",
      "source": [
        " ques 10. Write code to demonstrate type casting with list elements.\n"
      ],
      "metadata": {
        "id": "-zxAFY78eeOA"
      }
    },
    {
      "cell_type": "code",
      "source": [
        "a= [1,2.3, True, \"pea\", \"tomato\",3+7j]\n",
        "a"
      ],
      "metadata": {
        "colab": {
          "base_uri": "https://localhost:8080/"
        },
        "id": "2FyL44jVsnQM",
        "outputId": "c73b699a-244b-4323-bb3a-51567c4bd9d4"
      },
      "execution_count": null,
      "outputs": [
        {
          "output_type": "execute_result",
          "data": {
            "text/plain": [
              "[1, 2.3, True, 'pea', 'tomato', (3+7j)]"
            ]
          },
          "metadata": {},
          "execution_count": 75
        }
      ]
    },
    {
      "cell_type": "code",
      "source": [
        "type(a)"
      ],
      "metadata": {
        "colab": {
          "base_uri": "https://localhost:8080/"
        },
        "id": "xbRHTzHTuUj5",
        "outputId": "b4d529dc-ce33-4f43-f062-8aa044741ada"
      },
      "execution_count": null,
      "outputs": [
        {
          "output_type": "execute_result",
          "data": {
            "text/plain": [
              "list"
            ]
          },
          "metadata": {},
          "execution_count": 76
        }
      ]
    },
    {
      "cell_type": "markdown",
      "source": [
        " ques 11.  Write a program that checks if a number is positive, negative, or zero"
      ],
      "metadata": {
        "id": "lSelh7kGuZZH"
      }
    },
    {
      "cell_type": "code",
      "source": [
        "def check_number():\n",
        "    num = -2  # we can change this number to check others number .\n",
        "\n",
        "    if num > 0:\n",
        "        print(\"The number is positive.\")\n",
        "    elif num < 0:\n",
        "        print(\"The number is negative.\")\n",
        "    else:\n",
        "        print(\"The number is zero.\")\n",
        "\n",
        "check_number()"
      ],
      "metadata": {
        "colab": {
          "base_uri": "https://localhost:8080/"
        },
        "id": "ICcc6OSEulxh",
        "outputId": "e15984af-ae44-497a-d355-be760e67159e"
      },
      "execution_count": null,
      "outputs": [
        {
          "output_type": "stream",
          "name": "stdout",
          "text": [
            "The number is negative.\n"
          ]
        }
      ]
    },
    {
      "cell_type": "markdown",
      "source": [
        "ques 12.Write a for loop to print numbers from 1 to 100"
      ],
      "metadata": {
        "id": "3lyjc3g9xk7P"
      }
    },
    {
      "cell_type": "code",
      "source": [
        "num=1\n",
        "for i in 'a'*100:\n",
        "  print (num)\n",
        "  num+=1"
      ],
      "metadata": {
        "colab": {
          "base_uri": "https://localhost:8080/"
        },
        "id": "_HXk3aOZyHvD",
        "outputId": "28d3c409-585c-48bd-ba7c-bdcbd192a7d3"
      },
      "execution_count": null,
      "outputs": [
        {
          "output_type": "stream",
          "name": "stdout",
          "text": [
            "1\n",
            "2\n",
            "3\n",
            "4\n",
            "5\n",
            "6\n",
            "7\n",
            "8\n",
            "9\n",
            "10\n",
            "11\n",
            "12\n",
            "13\n",
            "14\n",
            "15\n",
            "16\n",
            "17\n",
            "18\n",
            "19\n",
            "20\n",
            "21\n",
            "22\n",
            "23\n",
            "24\n",
            "25\n",
            "26\n",
            "27\n",
            "28\n",
            "29\n",
            "30\n",
            "31\n",
            "32\n",
            "33\n",
            "34\n",
            "35\n",
            "36\n",
            "37\n",
            "38\n",
            "39\n",
            "40\n",
            "41\n",
            "42\n",
            "43\n",
            "44\n",
            "45\n",
            "46\n",
            "47\n",
            "48\n",
            "49\n",
            "50\n",
            "51\n",
            "52\n",
            "53\n",
            "54\n",
            "55\n",
            "56\n",
            "57\n",
            "58\n",
            "59\n",
            "60\n",
            "61\n",
            "62\n",
            "63\n",
            "64\n",
            "65\n",
            "66\n",
            "67\n",
            "68\n",
            "69\n",
            "70\n",
            "71\n",
            "72\n",
            "73\n",
            "74\n",
            "75\n",
            "76\n",
            "77\n",
            "78\n",
            "79\n",
            "80\n",
            "81\n",
            "82\n",
            "83\n",
            "84\n",
            "85\n",
            "86\n",
            "87\n",
            "88\n",
            "89\n",
            "90\n",
            "91\n",
            "92\n",
            "93\n",
            "94\n",
            "95\n",
            "96\n",
            "97\n",
            "98\n",
            "99\n",
            "100\n"
          ]
        }
      ]
    },
    {
      "cell_type": "markdown",
      "source": [
        "ques 13. Write a Python program to find the sum of all even numbers between 1 and 500"
      ],
      "metadata": {
        "id": "NG0Oynl-yiiq"
      }
    },
    {
      "cell_type": "code",
      "source": [
        "def sum_even_numbers():\n",
        "    total_sum = 0\n",
        "\n",
        "    # Loop through all numbers from 1 to 500\n",
        "    for num in range(2, 501, 2):  # Starting from 2 and incrementing by 2 to get only even numbers\n",
        "        total_sum += num\n",
        "\n",
        "    print(f\"The sum of all even numbers between 1 and 500 is: {total_sum}\")\n",
        "\n",
        "sum_even_numbers()"
      ],
      "metadata": {
        "colab": {
          "base_uri": "https://localhost:8080/"
        },
        "id": "TmSuUQ-YzISO",
        "outputId": "1e4b5797-397d-418d-ef81-d3f4afc50a05"
      },
      "execution_count": null,
      "outputs": [
        {
          "output_type": "stream",
          "name": "stdout",
          "text": [
            "The sum of all even numbers between 1 and 500 is: 62750\n"
          ]
        }
      ]
    },
    {
      "cell_type": "markdown",
      "source": [
        "ques 14.Write a program to reverse a string using a while loop."
      ],
      "metadata": {
        "id": "Irhlb4rYztZM"
      }
    },
    {
      "cell_type": "code",
      "source": [
        "def reverse_string(input_string):\n",
        "    reversed_string = \"\"\n",
        "    index = len(input_string) - 1  # Start from the last character\n",
        "\n",
        "    # Use while loop to iterate through the string in reverse order\n",
        "    while index >= 0:\n",
        "        reversed_string += input_string[index]\n",
        "        index -= 1  # Move to the previous character\n",
        "\n",
        "    return reversed_string\n",
        "\n",
        "# Test the function\n",
        "input_string = \"Hello, world\"  # here ,we can change the string to check the reverse of other string.\n",
        "reversed_string = reverse_string(input_string)\n",
        "print(f\"Original String: {input_string}\")\n",
        "print(f\"Reversed String: {reversed_string}\")"
      ],
      "metadata": {
        "colab": {
          "base_uri": "https://localhost:8080/"
        },
        "id": "t26ahuJB0QsB",
        "outputId": "05b3ed00-e14a-45ff-b781-4a3eae0b492a"
      },
      "execution_count": null,
      "outputs": [
        {
          "output_type": "stream",
          "name": "stdout",
          "text": [
            "Original String: Hello, world\n",
            "Reversed String: dlrow ,olleH\n"
          ]
        }
      ]
    },
    {
      "cell_type": "markdown",
      "source": [
        "ques 15. Write a Python program to calculate the factorial of a number provided by the user using a while loop"
      ],
      "metadata": {
        "id": "GzDV4rEY06OC"
      }
    },
    {
      "cell_type": "code",
      "source": [
        "def calculate_factorial():\n",
        "    # Get user input\n",
        "    num= int(input(\"Enter a number to calculate its factorial: \"))\n",
        "\n",
        "    # Initialize factorial result to 1\n",
        "    factorial = 1\n",
        "\n",
        "    # Handle case for negative numbers\n",
        "    if num < 0:\n",
        "        print(\"Factorial is not defined for negative numbers.\")\n",
        "    else:\n",
        "        # Use while loop to calculate factorial\n",
        "        while num > 0:\n",
        "            factorial *= num  # Multiply the current number to the factorial\n",
        "            num -= 1  # Decrease the number by 1\n",
        "\n",
        "        # Print the result\n",
        "        print(f\"The factorial is: {factorial}\")\n",
        "\n",
        "# Call the function\n",
        "calculate_factorial()"
      ],
      "metadata": {
        "colab": {
          "base_uri": "https://localhost:8080/"
        },
        "id": "iNvtWQd_1UVU",
        "outputId": "502486ec-4f41-42cd-da33-3ad0f0d293ea"
      },
      "execution_count": null,
      "outputs": [
        {
          "output_type": "stream",
          "name": "stdout",
          "text": [
            "Enter a number to calculate its factorial: 5\n",
            "The factorial is: 120\n"
          ]
        }
      ]
    }
  ]
}